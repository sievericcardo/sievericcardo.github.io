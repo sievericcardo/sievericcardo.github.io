{
 "cells": [
  {
   "cell_type": "markdown",
   "metadata": {
    "deletable": true,
    "editable": true
   },
   "source": [
    "# Publications markdown generator for academicpages\n",
    "\n",
    "Takes a TSV of publications with metadata and converts them for use with [academicpages.github.io](academicpages.github.io). This is an interactive Jupyter notebook ([see more info here](http://jupyter-notebook-beginner-guide.readthedocs.io/en/latest/what_is_jupyter.html)). The core python code is also in `publications.py`. Run either from the `markdown_generator` folder after replacing `publications.tsv` with one containing your data.\n",
    "\n",
    "TODO: Make this work with BibTex and other databases of citations, rather than Stuart's non-standard TSV format and citation style.\n"
   ]
  },
  {
   "cell_type": "markdown",
   "metadata": {},
   "source": [
    "## Data format\n",
    "\n",
    "The TSV needs to have the following columns: pub_date, title, venue, excerpt, citation, site_url, and paper_url, with a header at the top. \n",
    "\n",
    "- `excerpt` and `paper_url` can be blank, but the others must have values. \n",
    "- `pub_date` must be formatted as YYYY-MM-DD.\n",
    "- `url_slug` will be the descriptive part of the .md file and the permalink URL for the page about the paper. The .md file will be `YYYY-MM-DD-[url_slug].md` and the permalink will be `https://[yourdomain]/publications/YYYY-MM-DD-[url_slug]`\n",
    "\n",
    "This is how the raw file looks (it doesn't look pretty, use a spreadsheet or other program to edit and create)."
   ]
  },
  {
   "cell_type": "code",
   "execution_count": 29,
   "metadata": {
    "collapsed": false
   },
   "outputs": [
    {
     "name": "stdout",
     "output_type": "stream",
     "text": [
      "pub_date\ttitle\tvenue\texcerpt\tcitation\turl_slug\tpaper_url\tslides_url\n",
      "2024-04\tGreenhouseDT: An Exemplar for Digital Twins\tProc. 19th Symposium on Software Engineering for Adaptive and Self-Managing Systems (SEAMS 2024). © IEEE/ACM 2024.\tDigital twins, which are increasingly adopted in industry, are model-centric systems used to improve the behavior of a twinned physical system. Seen as a whole, this system has several layers of self-adaptation: first, the digital twin manages its physical counterpart and maintains its models through a feedback loop to, e.g., fine-tune model parameters. Second, the digital twin needs to deal with unforeseen changes in the composition of the physical system, which require models to be partly replaced or recomposed. To facilitate research on self-adaptive digital twins, without requiring access to industrial production systems, this paper presents GreenhouseDT, an exemplar that explicitly separates these layers of self-adaptation. GreenhouseDT provides an extensible software architecture for a digital twin of a simple, low-cost greenhouse, in which plants, sensors and water pumps constitute the physical system. GreenhouseDT includes an asset model in the digital twin’s knowledge base and uses reflection to lift twinned configurations into the knowledge base. We discuss how GreenhouseDT can be extended with different digital twin capabilities, demonstrated by the addition of plant health monitoring and model-based control.\t1(1).\t24-seams\thttp://academicpages.github.io/files/24-seams.pdf\t\n",
      "2024-10\tSemantic Reflection and Digital Twins: A Comprehensive Overview\tThe Combined Power of Research, Education and Dissemination. LNCS 15240, Springer 2024.\tSemantic reflection combines reflection in programming languages with semantic technologies for knowledge representation. It enables a program to represent and query its own runtime state as a knowledge graph. The knowledge graphs reflecting program states can be combined with domain knowledge which allows queries about a program to be made in terms of a given domain vocabulary, as well as with external graph data. Both extensions of the knowledge graph reflecting the run-time state are useful for digital twins. In this paper, we discuss the basic concepts of semantic reflection, its applications for digital twins, and its connections to formal methods.\t1(2).\t24-tiziana\thttp://academicpages.github.io/files/24-tiziana.pdf\t\n",
      "2025-05\tBedreFlyt: Improving Patient Flows through Hospital Wards with Digital Twins\t1st International Workshop on Autonomous System Quality Assurance and Prediction with Digital Twins (ASQAP 2025). EPTCS 2025.\tDigital twins are emerging as a valuable tool for short-term decision-making as well as for long-term strategic planning across numerous domains, including process industry, energy, space, transport, and healthcare. This paper reports on our ongoing work on designing a digital twin to enhance resource planning, e.g., for the in-patient ward needs in hospitals. By leveraging executable formal models for system exploration, ontologies for knowledge representation and an SMT solver for constraint satisfiability, our approach aims to explore hypothetical “what-if” scenarios to improve strategic planning processes, as well as to solve concrete, short-term decision-making tasks. Our proposed solution uses the executable formal model to turn a stream of arriving patients, that need to be hospitalized, into a stream of optimization problems, e.g., capturing daily inpatient ward needs, that can be solved by SMT techniques. The knowledge base, which formalizes domain knowledge, is used to model the needed configuration in the digital twin, allowing the twin to support both short-term decision-making and long-term strategic planning by generating scenarios spanning average-case as well as worst-case resource needs, depending on the expected treatment of patients, as well as ranging over variations in available resources, e.g., bed distribution in different rooms. We illustrate our digital twin architecture by considering the problem of bed bay allocation in a hospital ward.\t1(3).\t25-asqap\thttp://academicpages.github.io/files/25-asqap.pdf\thttp://academicpages.github.io/files/asqap2025-bedreflyt-slides.pdf\n",
      "2025-07\tDeclarative Dynamic Object Reclassification\tProc. 39th European Conference on Object-Oriented Programming (ECOOP 2025). LIPIcs 333. Schloss Dagstuhl–Leibniz-Zentrum fuer Informatik 2025.\tIn object-oriented languages, dynamic object reclassification is a technique to change the class binding of an object at runtime. Current approaches express when and how to reclassify inside the program’s business code, while maintaining internal consistency. These approaches are less suited for programs that need to be consistent with an external context, such as autonomous systems interacting with a knowledge base. This paper proposes declarative dynamic object reclassification, a novel technique that provides a separation of concerns between a program’s business code and its adaptation logic for reclassification, expressed via a knowledge base. We present Featherweight Semantically Reflected Java, a minimal calculus for declarative dynamic object reclassification that enables the programmer to define consistency both internally (using a type system) and externally (using declarative classification queries). We use this calculus to study how internal and external consistency interact for declarative dynamic object reclassification. We further implement the technique by extending SMOL, a language for reflective programming via external knowledge bases.\t1(4).\t25-ecoop\thttp://academicpages.github.io/files/25-ecoop.pdf\t\n",
      "2025-08\tWhat-If Scenarios for the BedreFlyt Digital Twin\tIn: Principles of Formal Quantitative Analysis. LNCS 15760. © Springer 2025.\tDigital twin technology is emerging as a valuable tool for both short-term decision-making and long-term strategic planning across domains such as process industry, energy, space, transport, and healthcare. This paper reports on ongoing work in designing a digital twin to enhance resource planning in hospitals, e.g., for in-patient needs. Our focus here is on a novel technique to express what-if scenarios in digital twins to improve strategic planning processes, spanning, e.g., average-case and worst-case resource needs, expected patient treatments, and ranging over variations in available resources such as bed bays in the hospital ward. Due to the modularity of our digital twin architecture, different what-if scenarios can be explored simply by configuring the digital twin’s orchestrator, which triggers a formal methods analysis pipeline that combines executable formal models for simulation, optimization over constraints and a knowledge base that formalizes domain knowledge. We illustrate what-if scenario analysis in our digital twin architecture by considering the problem of bed bay allocation in a hospital ward.\t1(4).\t25-christel\thttp://academicpages.github.io/files/25-christel.pdf\t"
     ]
    }
   ],
   "source": [
    "!cat publications.tsv"
   ]
  },
  {
   "cell_type": "markdown",
   "metadata": {},
   "source": [
    "## Import pandas\n",
    "\n",
    "We are using the very handy pandas library for dataframes."
   ]
  },
  {
   "cell_type": "code",
   "execution_count": 30,
   "metadata": {
    "collapsed": true,
    "deletable": true,
    "editable": true
   },
   "outputs": [],
   "source": [
    "import pandas as pd"
   ]
  },
  {
   "cell_type": "markdown",
   "metadata": {},
   "source": [
    "## Import TSV\n",
    "\n",
    "Pandas makes this easy with the read_csv function. We are using a TSV, so we specify the separator as a tab, or `\\t`.\n",
    "\n",
    "I found it important to put this data in a tab-separated values format, because there are a lot of commas in this kind of data and comma-separated values can get messed up. However, you can modify the import statement, as pandas also has read_excel(), read_json(), and others."
   ]
  },
  {
   "cell_type": "code",
   "execution_count": 31,
   "metadata": {
    "collapsed": false,
    "deletable": true,
    "editable": true
   },
   "outputs": [
    {
     "data": {
      "text/html": [
       "<div>\n",
       "<style scoped>\n",
       "    .dataframe tbody tr th:only-of-type {\n",
       "        vertical-align: middle;\n",
       "    }\n",
       "\n",
       "    .dataframe tbody tr th {\n",
       "        vertical-align: top;\n",
       "    }\n",
       "\n",
       "    .dataframe thead th {\n",
       "        text-align: right;\n",
       "    }\n",
       "</style>\n",
       "<table border=\"1\" class=\"dataframe\">\n",
       "  <thead>\n",
       "    <tr style=\"text-align: right;\">\n",
       "      <th></th>\n",
       "      <th>pub_date</th>\n",
       "      <th>title</th>\n",
       "      <th>venue</th>\n",
       "      <th>excerpt</th>\n",
       "      <th>citation</th>\n",
       "      <th>url_slug</th>\n",
       "      <th>paper_url</th>\n",
       "      <th>slides_url</th>\n",
       "    </tr>\n",
       "  </thead>\n",
       "  <tbody>\n",
       "    <tr>\n",
       "      <th>0</th>\n",
       "      <td>2024-04</td>\n",
       "      <td>GreenhouseDT: An Exemplar for Digital Twins</td>\n",
       "      <td>Proc. 19th Symposium on Software Engineering f...</td>\n",
       "      <td>Digital twins, which are increasingly adopted ...</td>\n",
       "      <td>1(1).</td>\n",
       "      <td>24-seams</td>\n",
       "      <td>http://academicpages.github.io/files/24-seams.pdf</td>\n",
       "      <td>NaN</td>\n",
       "    </tr>\n",
       "    <tr>\n",
       "      <th>1</th>\n",
       "      <td>2024-10</td>\n",
       "      <td>Semantic Reflection and Digital Twins: A Compr...</td>\n",
       "      <td>The Combined Power of Research, Education and ...</td>\n",
       "      <td>Semantic reflection combines reflection in pro...</td>\n",
       "      <td>1(2).</td>\n",
       "      <td>24-tiziana</td>\n",
       "      <td>http://academicpages.github.io/files/24-tizian...</td>\n",
       "      <td>NaN</td>\n",
       "    </tr>\n",
       "    <tr>\n",
       "      <th>2</th>\n",
       "      <td>2025-05</td>\n",
       "      <td>BedreFlyt: Improving Patient Flows through Hos...</td>\n",
       "      <td>1st International Workshop on Autonomous Syste...</td>\n",
       "      <td>Digital twins are emerging as a valuable tool ...</td>\n",
       "      <td>1(3).</td>\n",
       "      <td>25-asqap</td>\n",
       "      <td>http://academicpages.github.io/files/25-asqap.pdf</td>\n",
       "      <td>http://academicpages.github.io/files/asqap2025...</td>\n",
       "    </tr>\n",
       "    <tr>\n",
       "      <th>3</th>\n",
       "      <td>2025-07</td>\n",
       "      <td>Declarative Dynamic Object Reclassification</td>\n",
       "      <td>Proc. 39th European Conference on Object-Orien...</td>\n",
       "      <td>In object-oriented languages, dynamic object r...</td>\n",
       "      <td>1(4).</td>\n",
       "      <td>25-ecoop</td>\n",
       "      <td>http://academicpages.github.io/files/25-ecoop.pdf</td>\n",
       "      <td>NaN</td>\n",
       "    </tr>\n",
       "    <tr>\n",
       "      <th>4</th>\n",
       "      <td>2025-08</td>\n",
       "      <td>What-If Scenarios for the BedreFlyt Digital Twin</td>\n",
       "      <td>In: Principles of Formal Quantitative Analysis...</td>\n",
       "      <td>Digital twin technology is emerging as a valua...</td>\n",
       "      <td>1(4).</td>\n",
       "      <td>25-christel</td>\n",
       "      <td>http://academicpages.github.io/files/25-christ...</td>\n",
       "      <td>NaN</td>\n",
       "    </tr>\n",
       "  </tbody>\n",
       "</table>\n",
       "</div>"
      ],
      "text/plain": [
       "  pub_date                                              title  \\\n",
       "0  2024-04        GreenhouseDT: An Exemplar for Digital Twins   \n",
       "1  2024-10  Semantic Reflection and Digital Twins: A Compr...   \n",
       "2  2025-05  BedreFlyt: Improving Patient Flows through Hos...   \n",
       "3  2025-07        Declarative Dynamic Object Reclassification   \n",
       "4  2025-08   What-If Scenarios for the BedreFlyt Digital Twin   \n",
       "\n",
       "                                               venue  \\\n",
       "0  Proc. 19th Symposium on Software Engineering f...   \n",
       "1  The Combined Power of Research, Education and ...   \n",
       "2  1st International Workshop on Autonomous Syste...   \n",
       "3  Proc. 39th European Conference on Object-Orien...   \n",
       "4  In: Principles of Formal Quantitative Analysis...   \n",
       "\n",
       "                                             excerpt citation     url_slug  \\\n",
       "0  Digital twins, which are increasingly adopted ...    1(1).     24-seams   \n",
       "1  Semantic reflection combines reflection in pro...    1(2).   24-tiziana   \n",
       "2  Digital twins are emerging as a valuable tool ...    1(3).     25-asqap   \n",
       "3  In object-oriented languages, dynamic object r...    1(4).     25-ecoop   \n",
       "4  Digital twin technology is emerging as a valua...    1(4).  25-christel   \n",
       "\n",
       "                                           paper_url  \\\n",
       "0  http://academicpages.github.io/files/24-seams.pdf   \n",
       "1  http://academicpages.github.io/files/24-tizian...   \n",
       "2  http://academicpages.github.io/files/25-asqap.pdf   \n",
       "3  http://academicpages.github.io/files/25-ecoop.pdf   \n",
       "4  http://academicpages.github.io/files/25-christ...   \n",
       "\n",
       "                                          slides_url  \n",
       "0                                                NaN  \n",
       "1                                                NaN  \n",
       "2  http://academicpages.github.io/files/asqap2025...  \n",
       "3                                                NaN  \n",
       "4                                                NaN  "
      ]
     },
     "execution_count": 31,
     "metadata": {},
     "output_type": "execute_result"
    }
   ],
   "source": [
    "publications = pd.read_csv(\"publications.tsv\", sep=\"\\t\", header=0)\n",
    "publications\n"
   ]
  },
  {
   "cell_type": "markdown",
   "metadata": {},
   "source": [
    "## Escape special characters\n",
    "\n",
    "YAML is very picky about how it takes a valid string, so we are replacing single and double quotes (and ampersands) with their HTML encoded equivilents. This makes them look not so readable in raw format, but they are parsed and rendered nicely."
   ]
  },
  {
   "cell_type": "code",
   "execution_count": 32,
   "metadata": {
    "collapsed": true,
    "deletable": true,
    "editable": true
   },
   "outputs": [],
   "source": [
    "html_escape_table = {\n",
    "    \"&\": \"&amp;\",\n",
    "    '\"': \"&quot;\",\n",
    "    \"'\": \"&apos;\"\n",
    "    }\n",
    "\n",
    "def html_escape(text):\n",
    "    \"\"\"Produce entities within text.\"\"\"\n",
    "    return \"\".join(html_escape_table.get(c,c) for c in text)"
   ]
  },
  {
   "cell_type": "markdown",
   "metadata": {},
   "source": [
    "## Creating the markdown files\n",
    "\n",
    "This is where the heavy lifting is done. This loops through all the rows in the TSV dataframe, then starts to concatentate a big string (```md```) that contains the markdown for each type. It does the YAML metadata first, then does the description for the individual page."
   ]
  },
  {
   "cell_type": "code",
   "execution_count": 33,
   "metadata": {
    "collapsed": false,
    "deletable": true,
    "editable": true
   },
   "outputs": [],
   "source": [
    "import os\n",
    "for row, item in publications.iterrows():\n",
    "    \n",
    "    md_filename = str(item.pub_date) + \"-\" + item.url_slug + \".md\"\n",
    "    html_filename = str(item.pub_date) + \"-\" + item.url_slug\n",
    "    year = item.pub_date[:4]\n",
    "    \n",
    "    ## YAML variables\n",
    "    \n",
    "    md = \"---\\ntitle: \\\"\"   + item.title + '\"\\n'\n",
    "    \n",
    "    md += \"\"\"collection: publications\"\"\"\n",
    "    \n",
    "    md += \"\"\"\\npermalink: /publication/\"\"\" + html_filename\n",
    "    \n",
    "    if len(str(item.excerpt)) > 5:\n",
    "        md += \"\\nexcerpt: '\" + html_escape(item.excerpt) + \"'\"\n",
    "    \n",
    "    md += \"\\ndate: \" + str(item.pub_date) \n",
    "    \n",
    "    md += \"\\nvenue: '\" + html_escape(item.venue) + \"'\"\n",
    "    \n",
    "    if len(str(item.slides_url)) > 5:\n",
    "        md += \"\\nslidesurl: '\" + item.slides_url + \"'\"\n",
    "\n",
    "    if len(str(item.paper_url)) > 5:\n",
    "        md += \"\\npaperurl: '\" + item.paper_url + \"'\"\n",
    "    \n",
    "    md += \"\\ncitation: '\" + html_escape(item.citation) + \"'\"\n",
    "    \n",
    "    md += \"\\n---\"\n",
    "    \n",
    "    ## Markdown description for individual page\n",
    "        \n",
    "    if len(str(item.excerpt)) > 5:\n",
    "        md += \"\\n\" + html_escape(item.excerpt) + \"\\n\"\n",
    "\n",
    "    if len(str(item.slides_url)) > 5:\n",
    "        md += \"\\n[Download slides here](\" + item.slides_url + \")\\n\" \n",
    "\n",
    "    if len(str(item.paper_url)) > 5:\n",
    "        md += \"\\n[Download paper here](\" + item.paper_url + \")\\n\" \n",
    "        \n",
    "    md += \"\\nRecommended citation: \" + item.citation\n",
    "    \n",
    "    md_filename = os.path.basename(md_filename)\n",
    "       \n",
    "    with open(\"../_publications/\" + md_filename, 'w') as f:\n",
    "        f.write(md)"
   ]
  },
  {
   "cell_type": "markdown",
   "metadata": {},
   "source": [
    "These files are in the publications directory, one directory below where we're working from."
   ]
  },
  {
   "cell_type": "code",
   "execution_count": 34,
   "metadata": {
    "collapsed": false,
    "deletable": true,
    "editable": true
   },
   "outputs": [
    {
     "name": "stdout",
     "output_type": "stream",
     "text": [
      "2009-10-01-paper-title-number-1.md 2025-07-25-ecoop.md\n",
      "2010-10-01-paper-title-number-2.md 2025-08-25-christel.md\n",
      "2015-10-01-paper-title-number-3.md 24-seams.pdf.md\n",
      "2024-02-17-paper-title-number-4.md 24-tiziana.pdf.md\n",
      "2024-04-24-seams.md                25-asqap.pdf.md\n",
      "2024-10-24-tiziana.md              25-christel.pdf.md\n",
      "2025-05-25-asqap.md                25-ecoop.pdf.md\n",
      "2025-06-08-paper-title-number-5.md\n"
     ]
    }
   ],
   "source": [
    "!ls ../_publications/"
   ]
  },
  {
   "cell_type": "code",
   "execution_count": 35,
   "metadata": {
    "collapsed": false,
    "deletable": true,
    "editable": true
   },
   "outputs": [
    {
     "name": "stdout",
     "output_type": "stream",
     "text": [
      "---\n",
      "title: \"Paper Title Number 1\"\n",
      "collection: publications\n",
      "category: manuscripts\n",
      "permalink: /publication/2009-10-01-paper-title-number-1\n",
      "excerpt: 'This paper is about the number 1. The number 2 is left for future work.'\n",
      "date: 2009-10-01\n",
      "venue: 'Journal 1'\n",
      "slidesurl: 'http://academicpages.github.io/files/slides1.pdf'\n",
      "paperurl: 'http://academicpages.github.io/files/paper1.pdf'\n",
      "bibtexurl: 'http://academicpages.github.io/files/bibtex1.bib'\n",
      "citation: 'Your Name, You. (2009). &quot;Paper Title Number 1.&quot; <i>Journal 1</i>. 1(1).'\n",
      "---\n",
      "The contents above will be part of a list of publications, if the user clicks the link for the publication than the contents of section will be rendered as a full page, allowing you to provide more information about the paper for the reader. When publications are displayed as a single page, the contents of the above \"citation\" field will automatically be included below this section in a smaller font.\n"
     ]
    }
   ],
   "source": [
    "!cat ../_publications/2009-10-01-paper-title-number-1.md"
   ]
  },
  {
   "cell_type": "code",
   "execution_count": null,
   "metadata": {
    "collapsed": true,
    "deletable": true,
    "editable": true
   },
   "outputs": [],
   "source": []
  }
 ],
 "metadata": {
  "kernelspec": {
   "display_name": "opendrift",
   "language": "python",
   "name": "python3"
  },
  "language_info": {
   "codemirror_mode": {
    "name": "ipython",
    "version": 3
   },
   "file_extension": ".py",
   "mimetype": "text/x-python",
   "name": "python",
   "nbconvert_exporter": "python",
   "pygments_lexer": "ipython3",
   "version": "3.13.5"
  }
 },
 "nbformat": 4,
 "nbformat_minor": 0
}
